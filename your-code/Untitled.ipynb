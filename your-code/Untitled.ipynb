{
 "cells": [
  {
   "cell_type": "code",
   "execution_count": 1,
   "id": "4a8f27c4",
   "metadata": {},
   "outputs": [],
   "source": [
    "import mysql.connector as conn\n",
    "import pandas as pd"
   ]
  },
  {
   "cell_type": "code",
   "execution_count": 2,
   "id": "98e06680",
   "metadata": {},
   "outputs": [],
   "source": [
    "crea_db=conn.connect(host='localhost',\n",
    "                     user='root',\n",
    "                     passwd=open(\"../waka.txt\", \"r\").read())\n",
    "\n",
    "cursor=crea_db.cursor()\n",
    "\n",
    "cursor.execute('drop database if exists productos')\n",
    "cursor.execute('create database productos')"
   ]
  },
  {
   "cell_type": "code",
   "execution_count": 3,
   "id": "41482cdf",
   "metadata": {},
   "outputs": [
    {
     "name": "stdout",
     "output_type": "stream",
     "text": [
      "('information_schema',)\n",
      "('my_db5',)\n",
      "('my_db6',)\n",
      "('mysql',)\n",
      "('performance_schema',)\n",
      "('productos',)\n",
      "('publication',)\n",
      "('sys',)\n"
     ]
    }
   ],
   "source": [
    "cursor.execute('show databases')\n",
    "\n",
    "for x in cursor:\n",
    "    print(x)"
   ]
  },
  {
   "cell_type": "code",
   "execution_count": 4,
   "id": "c8bdd562",
   "metadata": {},
   "outputs": [],
   "source": [
    "db=conn.connect(host='localhost',\n",
    "                     user='root',\n",
    "                     passwd=open(\"../waka.txt\", \"r\").read(),\n",
    "                     database='publication')\n",
    "\n",
    "cursor=db.cursor()"
   ]
  },
  {
   "cell_type": "code",
   "execution_count": 5,
   "id": "243b1458",
   "metadata": {},
   "outputs": [
    {
     "data": {
      "text/plain": [
       "<mysql.connector.cursor_cext.CMySQLCursor at 0x7f6e86f37460>"
      ]
     },
     "execution_count": 5,
     "metadata": {},
     "output_type": "execute_result"
    }
   ],
   "source": [
    "cursor"
   ]
  },
  {
   "cell_type": "code",
   "execution_count": 6,
   "id": "42397132",
   "metadata": {},
   "outputs": [
    {
     "name": "stdout",
     "output_type": "stream",
     "text": [
      "('authors',)\n",
      "('discounts',)\n",
      "('employee',)\n",
      "('jobs',)\n",
      "('pub_info',)\n",
      "('publishers',)\n",
      "('roysched',)\n",
      "('sales',)\n",
      "('stores',)\n",
      "('titleauthor',)\n",
      "('titles',)\n"
     ]
    }
   ],
   "source": [
    "cursor.execute('show tables')\n",
    "\n",
    "for x in cursor:\n",
    "    print(x)"
   ]
  },
  {
   "cell_type": "code",
   "execution_count": 7,
   "id": "b2d54725",
   "metadata": {},
   "outputs": [
    {
     "name": "stdout",
     "output_type": "stream",
     "text": [
      "('172-32-1176', Decimal('19.9900'), 'Prolonged Data Deprivation: Four Case Studies', Decimal('29.985000000000'))\n",
      "('213-46-8915', Decimal('19.9900'), \"The Busy Executive's Database Guide\", Decimal('3.998000000000'))\n",
      "('213-46-8915', Decimal('19.9900'), \"The Busy Executive's Database Guide\", Decimal('7.996000000000'))\n",
      "('213-46-8915', Decimal('2.9900'), 'You Can Combat Computer Stress!', Decimal('25.116000000000'))\n",
      "('238-95-7766', Decimal('22.9500'), 'But Is It User Friendly?', Decimal('110.160000000000'))\n",
      "('267-41-2394', Decimal('11.9500'), 'Cooking with Computers: Surreptitious Balance Sheets', Decimal('11.950000000000'))\n",
      "('267-41-2394', Decimal('14.9900'), 'Sushi, Anyone?', Decimal('8.994000000000'))\n",
      "('274-80-9391', Decimal('19.9900'), 'Straight Talk About Computers', Decimal('29.985000000000'))\n",
      "('341-22-1782', None, None, None)\n",
      "('409-56-7008', Decimal('19.9900'), \"The Busy Executive's Database Guide\", Decimal('5.997000000000'))\n",
      "('409-56-7008', Decimal('19.9900'), \"The Busy Executive's Database Guide\", Decimal('11.994000000000'))\n",
      "('427-17-2319', Decimal('20.0000'), 'Secrets of Silicon Valley', Decimal('50.000000000000'))\n",
      "('472-27-2349', Decimal('14.9900'), 'Sushi, Anyone?', Decimal('8.994000000000'))\n",
      "('486-29-1786', None, 'Net Etiquette', None)\n",
      "('486-29-1786', Decimal('7.9900'), 'Emotional Security: A New Algorithm', Decimal('19.975000000000'))\n",
      "('527-72-3246', None, None, None)\n",
      "('648-92-1872', Decimal('11.9500'), 'Fifty Years in Buckingham Palace Kitchens', Decimal('33.460000000000'))\n",
      "('672-71-3249', Decimal('14.9900'), 'Sushi, Anyone?', Decimal('11.992000000000'))\n",
      "('712-45-1867', Decimal('19.9900'), 'Silicon Valley Gastronomic Treats', Decimal('23.988000000000'))\n",
      "('722-51-5454', Decimal('2.9900'), 'The Gourmet Microwave', Decimal('13.455000000000'))\n",
      "('722-51-5454', Decimal('2.9900'), 'The Gourmet Microwave', Decimal('8.073000000000'))\n",
      "('724-08-9931', None, None, None)\n",
      "('724-80-9391', Decimal('11.9500'), 'Cooking with Computers: Surreptitious Balance Sheets', Decimal('17.925000000000'))\n",
      "('724-80-9391', Decimal('21.5900'), 'Computer Phobic AND Non-Phobic Individuals: Behavior Variations', Decimal('10.795000000000'))\n",
      "('756-30-7391', Decimal('21.5900'), 'Computer Phobic AND Non-Phobic Individuals: Behavior Variations', Decimal('32.385000000000'))\n",
      "('807-91-6654', Decimal('20.9500'), 'Onions, Leeks, and Garlic: Cooking Secrets of the Mediterranean', Decimal('83.800000000000'))\n",
      "('846-92-7186', Decimal('20.0000'), 'Secrets of Silicon Valley', Decimal('50.000000000000'))\n",
      "('893-72-1158', None, None, None)\n",
      "('899-46-2035', Decimal('2.9900'), 'The Gourmet Microwave', Decimal('4.485000000000'))\n",
      "('899-46-2035', Decimal('2.9900'), 'The Gourmet Microwave', Decimal('2.691000000000'))\n",
      "('899-46-2035', Decimal('10.9500'), 'Is Anger the Enemy?', Decimal('1.971000000000'))\n",
      "('899-46-2035', Decimal('10.9500'), 'Is Anger the Enemy?', Decimal('49.275000000000'))\n",
      "('899-46-2035', Decimal('10.9500'), 'Is Anger the Enemy?', Decimal('6.570000000000'))\n",
      "('899-46-2035', Decimal('10.9500'), 'Is Anger the Enemy?', Decimal('13.140000000000'))\n",
      "('998-72-3567', Decimal('10.9500'), 'Is Anger the Enemy?', Decimal('1.971000000000'))\n",
      "('998-72-3567', Decimal('10.9500'), 'Is Anger the Enemy?', Decimal('49.275000000000'))\n",
      "('998-72-3567', Decimal('10.9500'), 'Is Anger the Enemy?', Decimal('6.570000000000'))\n",
      "('998-72-3567', Decimal('10.9500'), 'Is Anger the Enemy?', Decimal('13.140000000000'))\n",
      "('998-72-3567', Decimal('7.0000'), 'Life Without Fear', Decimal('17.500000000000'))\n"
     ]
    }
   ],
   "source": [
    "cursor.execute(\n",
    "   '''SELECT  a.au_id AS \"AUTHOR ID\",  tl.price AS \"price\",   tl.title AS \"Title\",\n",
    "tl.price * sa.qty * tl.royalty / 100 * ta.royaltyper / 100 AS \"royal sales\"\n",
    "\tFROM authors AS a\n",
    "    LEFT JOIN titleauthor AS ta ON a.au_id = ta.au_id  \n",
    "    LEFT JOIN titles AS tl ON tl.title_id = ta.title_id \n",
    "    LEFT JOIN publishers AS pb ON pb.pub_id = tl.pub_id \n",
    "    LEFT JOIN sales AS sa ON sa.title_id = ta.title_id'''\n",
    "\n",
    ")\n",
    "\n",
    "for x in cursor:\n",
    "    print(x)"
   ]
  },
  {
   "cell_type": "code",
   "execution_count": 8,
   "id": "a3504edd",
   "metadata": {},
   "outputs": [
    {
     "ename": "ProgrammingError",
     "evalue": "1064 (42000): You have an error in your SQL syntax; check the manual that corresponds to your MySQL server version for the right syntax to use near 'FROM authors AS a\n    LEFT JOIN titleauthor AS ta ON a.au_id = ta.au_id  \n    LE' at line 3",
     "output_type": "error",
     "traceback": [
      "\u001b[0;31m---------------------------------------------------------------------------\u001b[0m",
      "\u001b[0;31mMySQLInterfaceError\u001b[0m                       Traceback (most recent call last)",
      "\u001b[0;32m~/anaconda3/envs/ironhack/lib/python3.8/site-packages/mysql/connector/connection_cext.py\u001b[0m in \u001b[0;36mcmd_query\u001b[0;34m(self, query, raw, buffered, raw_as_string)\u001b[0m\n\u001b[1;32m    522\u001b[0m                 \u001b[0mquery\u001b[0m \u001b[0;34m=\u001b[0m \u001b[0mquery\u001b[0m\u001b[0;34m.\u001b[0m\u001b[0mencode\u001b[0m\u001b[0;34m(\u001b[0m\u001b[0;34m'utf-8'\u001b[0m\u001b[0;34m)\u001b[0m\u001b[0;34m\u001b[0m\u001b[0;34m\u001b[0m\u001b[0m\n\u001b[0;32m--> 523\u001b[0;31m             self._cmysql.query(query,\n\u001b[0m\u001b[1;32m    524\u001b[0m                                \u001b[0mraw\u001b[0m\u001b[0;34m=\u001b[0m\u001b[0mraw\u001b[0m\u001b[0;34m,\u001b[0m \u001b[0mbuffered\u001b[0m\u001b[0;34m=\u001b[0m\u001b[0mbuffered\u001b[0m\u001b[0;34m,\u001b[0m\u001b[0;34m\u001b[0m\u001b[0;34m\u001b[0m\u001b[0m\n",
      "\u001b[0;31mMySQLInterfaceError\u001b[0m: You have an error in your SQL syntax; check the manual that corresponds to your MySQL server version for the right syntax to use near 'FROM authors AS a\n    LEFT JOIN titleauthor AS ta ON a.au_id = ta.au_id  \n    LE' at line 3",
      "\nDuring handling of the above exception, another exception occurred:\n",
      "\u001b[0;31mProgrammingError\u001b[0m                          Traceback (most recent call last)",
      "\u001b[0;32m<ipython-input-8-84a336691709>\u001b[0m in \u001b[0;36m<module>\u001b[0;34m\u001b[0m\n\u001b[1;32m      8\u001b[0m \u001b[0;34m\u001b[0m\u001b[0m\n\u001b[1;32m      9\u001b[0m \t'''\n\u001b[0;32m---> 10\u001b[0;31m \u001b[0mcursor\u001b[0m\u001b[0;34m.\u001b[0m\u001b[0mexecute\u001b[0m\u001b[0;34m(\u001b[0m\u001b[0mtabla1\u001b[0m\u001b[0;34m)\u001b[0m\u001b[0;34m\u001b[0m\u001b[0;34m\u001b[0m\u001b[0m\n\u001b[0m",
      "\u001b[0;32m~/anaconda3/envs/ironhack/lib/python3.8/site-packages/mysql/connector/cursor_cext.py\u001b[0m in \u001b[0;36mexecute\u001b[0;34m(self, operation, params, multi)\u001b[0m\n\u001b[1;32m    267\u001b[0m \u001b[0;34m\u001b[0m\u001b[0m\n\u001b[1;32m    268\u001b[0m         \u001b[0;32mtry\u001b[0m\u001b[0;34m:\u001b[0m\u001b[0;34m\u001b[0m\u001b[0;34m\u001b[0m\u001b[0m\n\u001b[0;32m--> 269\u001b[0;31m             result = self._cnx.cmd_query(stmt, raw=self._raw,\n\u001b[0m\u001b[1;32m    270\u001b[0m                                          \u001b[0mbuffered\u001b[0m\u001b[0;34m=\u001b[0m\u001b[0mself\u001b[0m\u001b[0;34m.\u001b[0m\u001b[0m_buffered\u001b[0m\u001b[0;34m,\u001b[0m\u001b[0;34m\u001b[0m\u001b[0;34m\u001b[0m\u001b[0m\n\u001b[1;32m    271\u001b[0m                                          raw_as_string=self._raw_as_string)\n",
      "\u001b[0;32m~/anaconda3/envs/ironhack/lib/python3.8/site-packages/mysql/connector/connection_cext.py\u001b[0m in \u001b[0;36mcmd_query\u001b[0;34m(self, query, raw, buffered, raw_as_string)\u001b[0m\n\u001b[1;32m    526\u001b[0m                                query_attrs=self._query_attrs)\n\u001b[1;32m    527\u001b[0m         \u001b[0;32mexcept\u001b[0m \u001b[0mMySQLInterfaceError\u001b[0m \u001b[0;32mas\u001b[0m \u001b[0mexc\u001b[0m\u001b[0;34m:\u001b[0m\u001b[0;34m\u001b[0m\u001b[0;34m\u001b[0m\u001b[0m\n\u001b[0;32m--> 528\u001b[0;31m             raise errors.get_mysql_exception(exc.errno, msg=exc.msg,\n\u001b[0m\u001b[1;32m    529\u001b[0m                                              sqlstate=exc.sqlstate)\n\u001b[1;32m    530\u001b[0m         \u001b[0;32mexcept\u001b[0m \u001b[0mAttributeError\u001b[0m\u001b[0;34m:\u001b[0m\u001b[0;34m\u001b[0m\u001b[0;34m\u001b[0m\u001b[0m\n",
      "\u001b[0;31mProgrammingError\u001b[0m: 1064 (42000): You have an error in your SQL syntax; check the manual that corresponds to your MySQL server version for the right syntax to use near 'FROM authors AS a\n    LEFT JOIN titleauthor AS ta ON a.au_id = ta.au_id  \n    LE' at line 3"
     ]
    }
   ],
   "source": [
    "\n",
    "\n",
    "tabla1='''SELECT  a.au_id AS \"AUTHOR ID\",  tl.title AS \"Title\",\n",
    "tl.price * sa.qty * tl.royalty / 100 * ta.royaltyper / 100 AS \"royal_sales\",\n",
    "\tFROM authors AS a\n",
    "    LEFT JOIN titleauthor AS ta ON a.au_id = ta.au_id  \n",
    "    LEFT JOIN titles AS tl ON tl.title_id = ta.title_id \n",
    "    LEFT JOIN publishers AS pb ON pb.pub_id = tl.pub_id \n",
    "    LEFT JOIN sales AS sa ON sa.title_id = ta.title_id\n",
    "    \n",
    "\t'''\n",
    "cursor.execute(tabla1)"
   ]
  },
  {
   "cell_type": "code",
   "execution_count": 9,
   "id": "541cbcc5",
   "metadata": {},
   "outputs": [],
   "source": [
    "db=conn.connect(host='localhost',\n",
    "                     user='root',\n",
    "                     passwd=open(\"../waka.txt\", \"r\").read(),\n",
    "                     database='publication')\n",
    "\n",
    "cursor=db.cursor()"
   ]
  },
  {
   "cell_type": "code",
   "execution_count": 10,
   "id": "faff381f",
   "metadata": {},
   "outputs": [
    {
     "ename": "DatabaseError",
     "evalue": "Execution failed on sql 'SELECT  a.au_id AS \"AUTHOR ID\",  tl.title AS \"Title\",\ntl.price * sa.qty * tl.royalty / 100 * ta.royaltyper / 100 AS \"royal_sales\",\n\tFROM authors AS a\n    LEFT JOIN titleauthor AS ta ON a.au_id = ta.au_id  \n    LEFT JOIN titles AS tl ON tl.title_id = ta.title_id \n    LEFT JOIN publishers AS pb ON pb.pub_id = tl.pub_id \n    LEFT JOIN sales AS sa ON sa.title_id = ta.title_id\n    \n\t': 1064 (42000): You have an error in your SQL syntax; check the manual that corresponds to your MySQL server version for the right syntax to use near 'FROM authors AS a\n    LEFT JOIN titleauthor AS ta ON a.au_id = ta.au_id  \n    LE' at line 3",
     "output_type": "error",
     "traceback": [
      "\u001b[0;31m---------------------------------------------------------------------------\u001b[0m",
      "\u001b[0;31mMySQLInterfaceError\u001b[0m                       Traceback (most recent call last)",
      "\u001b[0;32m~/anaconda3/envs/ironhack/lib/python3.8/site-packages/mysql/connector/connection_cext.py\u001b[0m in \u001b[0;36mcmd_query\u001b[0;34m(self, query, raw, buffered, raw_as_string)\u001b[0m\n\u001b[1;32m    522\u001b[0m                 \u001b[0mquery\u001b[0m \u001b[0;34m=\u001b[0m \u001b[0mquery\u001b[0m\u001b[0;34m.\u001b[0m\u001b[0mencode\u001b[0m\u001b[0;34m(\u001b[0m\u001b[0;34m'utf-8'\u001b[0m\u001b[0;34m)\u001b[0m\u001b[0;34m\u001b[0m\u001b[0;34m\u001b[0m\u001b[0m\n\u001b[0;32m--> 523\u001b[0;31m             self._cmysql.query(query,\n\u001b[0m\u001b[1;32m    524\u001b[0m                                \u001b[0mraw\u001b[0m\u001b[0;34m=\u001b[0m\u001b[0mraw\u001b[0m\u001b[0;34m,\u001b[0m \u001b[0mbuffered\u001b[0m\u001b[0;34m=\u001b[0m\u001b[0mbuffered\u001b[0m\u001b[0;34m,\u001b[0m\u001b[0;34m\u001b[0m\u001b[0;34m\u001b[0m\u001b[0m\n",
      "\u001b[0;31mMySQLInterfaceError\u001b[0m: You have an error in your SQL syntax; check the manual that corresponds to your MySQL server version for the right syntax to use near 'FROM authors AS a\n    LEFT JOIN titleauthor AS ta ON a.au_id = ta.au_id  \n    LE' at line 3",
      "\nDuring handling of the above exception, another exception occurred:\n",
      "\u001b[0;31mProgrammingError\u001b[0m                          Traceback (most recent call last)",
      "\u001b[0;32m~/anaconda3/envs/ironhack/lib/python3.8/site-packages/pandas/io/sql.py\u001b[0m in \u001b[0;36mexecute\u001b[0;34m(self, *args, **kwargs)\u001b[0m\n\u001b[1;32m   2055\u001b[0m         \u001b[0;32mtry\u001b[0m\u001b[0;34m:\u001b[0m\u001b[0;34m\u001b[0m\u001b[0;34m\u001b[0m\u001b[0m\n\u001b[0;32m-> 2056\u001b[0;31m             \u001b[0mcur\u001b[0m\u001b[0;34m.\u001b[0m\u001b[0mexecute\u001b[0m\u001b[0;34m(\u001b[0m\u001b[0;34m*\u001b[0m\u001b[0margs\u001b[0m\u001b[0;34m,\u001b[0m \u001b[0;34m**\u001b[0m\u001b[0mkwargs\u001b[0m\u001b[0;34m)\u001b[0m\u001b[0;34m\u001b[0m\u001b[0;34m\u001b[0m\u001b[0m\n\u001b[0m\u001b[1;32m   2057\u001b[0m             \u001b[0;32mreturn\u001b[0m \u001b[0mcur\u001b[0m\u001b[0;34m\u001b[0m\u001b[0;34m\u001b[0m\u001b[0m\n",
      "\u001b[0;32m~/anaconda3/envs/ironhack/lib/python3.8/site-packages/mysql/connector/cursor_cext.py\u001b[0m in \u001b[0;36mexecute\u001b[0;34m(self, operation, params, multi)\u001b[0m\n\u001b[1;32m    268\u001b[0m         \u001b[0;32mtry\u001b[0m\u001b[0;34m:\u001b[0m\u001b[0;34m\u001b[0m\u001b[0;34m\u001b[0m\u001b[0m\n\u001b[0;32m--> 269\u001b[0;31m             result = self._cnx.cmd_query(stmt, raw=self._raw,\n\u001b[0m\u001b[1;32m    270\u001b[0m                                          \u001b[0mbuffered\u001b[0m\u001b[0;34m=\u001b[0m\u001b[0mself\u001b[0m\u001b[0;34m.\u001b[0m\u001b[0m_buffered\u001b[0m\u001b[0;34m,\u001b[0m\u001b[0;34m\u001b[0m\u001b[0;34m\u001b[0m\u001b[0m\n",
      "\u001b[0;32m~/anaconda3/envs/ironhack/lib/python3.8/site-packages/mysql/connector/connection_cext.py\u001b[0m in \u001b[0;36mcmd_query\u001b[0;34m(self, query, raw, buffered, raw_as_string)\u001b[0m\n\u001b[1;32m    527\u001b[0m         \u001b[0;32mexcept\u001b[0m \u001b[0mMySQLInterfaceError\u001b[0m \u001b[0;32mas\u001b[0m \u001b[0mexc\u001b[0m\u001b[0;34m:\u001b[0m\u001b[0;34m\u001b[0m\u001b[0;34m\u001b[0m\u001b[0m\n\u001b[0;32m--> 528\u001b[0;31m             raise errors.get_mysql_exception(exc.errno, msg=exc.msg,\n\u001b[0m\u001b[1;32m    529\u001b[0m                                              sqlstate=exc.sqlstate)\n",
      "\u001b[0;31mProgrammingError\u001b[0m: 1064 (42000): You have an error in your SQL syntax; check the manual that corresponds to your MySQL server version for the right syntax to use near 'FROM authors AS a\n    LEFT JOIN titleauthor AS ta ON a.au_id = ta.au_id  \n    LE' at line 3",
      "\nThe above exception was the direct cause of the following exception:\n",
      "\u001b[0;31mDatabaseError\u001b[0m                             Traceback (most recent call last)",
      "\u001b[0;32m<ipython-input-10-a3cb1ea66dcd>\u001b[0m in \u001b[0;36m<module>\u001b[0;34m\u001b[0m\n\u001b[0;32m----> 1\u001b[0;31m \u001b[0mpd\u001b[0m\u001b[0;34m.\u001b[0m\u001b[0mread_sql\u001b[0m\u001b[0;34m(\u001b[0m\u001b[0mtabla1\u001b[0m\u001b[0;34m,\u001b[0m\u001b[0mdb\u001b[0m\u001b[0;34m)\u001b[0m\u001b[0;34m\u001b[0m\u001b[0;34m\u001b[0m\u001b[0m\n\u001b[0m",
      "\u001b[0;32m~/anaconda3/envs/ironhack/lib/python3.8/site-packages/pandas/io/sql.py\u001b[0m in \u001b[0;36mread_sql\u001b[0;34m(sql, con, index_col, coerce_float, params, parse_dates, columns, chunksize)\u001b[0m\n\u001b[1;32m    600\u001b[0m \u001b[0;34m\u001b[0m\u001b[0m\n\u001b[1;32m    601\u001b[0m     \u001b[0;32mif\u001b[0m \u001b[0misinstance\u001b[0m\u001b[0;34m(\u001b[0m\u001b[0mpandas_sql\u001b[0m\u001b[0;34m,\u001b[0m \u001b[0mSQLiteDatabase\u001b[0m\u001b[0;34m)\u001b[0m\u001b[0;34m:\u001b[0m\u001b[0;34m\u001b[0m\u001b[0;34m\u001b[0m\u001b[0m\n\u001b[0;32m--> 602\u001b[0;31m         return pandas_sql.read_query(\n\u001b[0m\u001b[1;32m    603\u001b[0m             \u001b[0msql\u001b[0m\u001b[0;34m,\u001b[0m\u001b[0;34m\u001b[0m\u001b[0;34m\u001b[0m\u001b[0m\n\u001b[1;32m    604\u001b[0m             \u001b[0mindex_col\u001b[0m\u001b[0;34m=\u001b[0m\u001b[0mindex_col\u001b[0m\u001b[0;34m,\u001b[0m\u001b[0;34m\u001b[0m\u001b[0;34m\u001b[0m\u001b[0m\n",
      "\u001b[0;32m~/anaconda3/envs/ironhack/lib/python3.8/site-packages/pandas/io/sql.py\u001b[0m in \u001b[0;36mread_query\u001b[0;34m(self, sql, index_col, coerce_float, params, parse_dates, chunksize, dtype)\u001b[0m\n\u001b[1;32m   2114\u001b[0m \u001b[0;34m\u001b[0m\u001b[0m\n\u001b[1;32m   2115\u001b[0m         \u001b[0margs\u001b[0m \u001b[0;34m=\u001b[0m \u001b[0m_convert_params\u001b[0m\u001b[0;34m(\u001b[0m\u001b[0msql\u001b[0m\u001b[0;34m,\u001b[0m \u001b[0mparams\u001b[0m\u001b[0;34m)\u001b[0m\u001b[0;34m\u001b[0m\u001b[0;34m\u001b[0m\u001b[0m\n\u001b[0;32m-> 2116\u001b[0;31m         \u001b[0mcursor\u001b[0m \u001b[0;34m=\u001b[0m \u001b[0mself\u001b[0m\u001b[0;34m.\u001b[0m\u001b[0mexecute\u001b[0m\u001b[0;34m(\u001b[0m\u001b[0;34m*\u001b[0m\u001b[0margs\u001b[0m\u001b[0;34m)\u001b[0m\u001b[0;34m\u001b[0m\u001b[0;34m\u001b[0m\u001b[0m\n\u001b[0m\u001b[1;32m   2117\u001b[0m         \u001b[0mcolumns\u001b[0m \u001b[0;34m=\u001b[0m \u001b[0;34m[\u001b[0m\u001b[0mcol_desc\u001b[0m\u001b[0;34m[\u001b[0m\u001b[0;36m0\u001b[0m\u001b[0;34m]\u001b[0m \u001b[0;32mfor\u001b[0m \u001b[0mcol_desc\u001b[0m \u001b[0;32min\u001b[0m \u001b[0mcursor\u001b[0m\u001b[0;34m.\u001b[0m\u001b[0mdescription\u001b[0m\u001b[0;34m]\u001b[0m\u001b[0;34m\u001b[0m\u001b[0;34m\u001b[0m\u001b[0m\n\u001b[1;32m   2118\u001b[0m \u001b[0;34m\u001b[0m\u001b[0m\n",
      "\u001b[0;32m~/anaconda3/envs/ironhack/lib/python3.8/site-packages/pandas/io/sql.py\u001b[0m in \u001b[0;36mexecute\u001b[0;34m(self, *args, **kwargs)\u001b[0m\n\u001b[1;32m   2066\u001b[0m \u001b[0;34m\u001b[0m\u001b[0m\n\u001b[1;32m   2067\u001b[0m             \u001b[0mex\u001b[0m \u001b[0;34m=\u001b[0m \u001b[0mDatabaseError\u001b[0m\u001b[0;34m(\u001b[0m\u001b[0;34mf\"Execution failed on sql '{args[0]}': {exc}\"\u001b[0m\u001b[0;34m)\u001b[0m\u001b[0;34m\u001b[0m\u001b[0;34m\u001b[0m\u001b[0m\n\u001b[0;32m-> 2068\u001b[0;31m             \u001b[0;32mraise\u001b[0m \u001b[0mex\u001b[0m \u001b[0;32mfrom\u001b[0m \u001b[0mexc\u001b[0m\u001b[0;34m\u001b[0m\u001b[0;34m\u001b[0m\u001b[0m\n\u001b[0m\u001b[1;32m   2069\u001b[0m \u001b[0;34m\u001b[0m\u001b[0m\n\u001b[1;32m   2070\u001b[0m     \u001b[0;34m@\u001b[0m\u001b[0mstaticmethod\u001b[0m\u001b[0;34m\u001b[0m\u001b[0;34m\u001b[0m\u001b[0m\n",
      "\u001b[0;31mDatabaseError\u001b[0m: Execution failed on sql 'SELECT  a.au_id AS \"AUTHOR ID\",  tl.title AS \"Title\",\ntl.price * sa.qty * tl.royalty / 100 * ta.royaltyper / 100 AS \"royal_sales\",\n\tFROM authors AS a\n    LEFT JOIN titleauthor AS ta ON a.au_id = ta.au_id  \n    LEFT JOIN titles AS tl ON tl.title_id = ta.title_id \n    LEFT JOIN publishers AS pb ON pb.pub_id = tl.pub_id \n    LEFT JOIN sales AS sa ON sa.title_id = ta.title_id\n    \n\t': 1064 (42000): You have an error in your SQL syntax; check the manual that corresponds to your MySQL server version for the right syntax to use near 'FROM authors AS a\n    LEFT JOIN titleauthor AS ta ON a.au_id = ta.au_id  \n    LE' at line 3"
     ]
    }
   ],
   "source": [
    "pd.read_sql(tabla1,db)"
   ]
  },
  {
   "cell_type": "code",
   "execution_count": null,
   "id": "4e6f7098",
   "metadata": {},
   "outputs": [],
   "source": [
    "tabla2='''Select * from \n",
    "(SELECT  a.au_id AS \"AUTHOR ID\",  tl.price AS \"price\",   tl.title AS \"Title\",\n",
    "sum(tl.price * sa.qty * tl.royalty / 100 * ta.royaltyper / 100) AS \"royal_sales\"\n",
    "\tFROM authors AS a\n",
    "    LEFT JOIN titleauthor AS ta ON a.au_id = ta.au_id  \n",
    "    LEFT JOIN titles AS tl ON tl.title_id = ta.title_id \n",
    "    LEFT JOIN publishers AS pb ON pb.pub_id = tl.pub_id \n",
    "    LEFT JOIN sales AS sa ON sa.title_id = ta.title_id\n",
    "     group by a.au_id) as tabla2\n",
    "\n",
    "group by Title'''\n",
    "cursor.execute(tabla2)\n"
   ]
  },
  {
   "cell_type": "code",
   "execution_count": 11,
   "id": "e6679bb3",
   "metadata": {},
   "outputs": [],
   "source": [
    "db=conn.connect(host='localhost',\n",
    "                     user='root',\n",
    "                     passwd=open(\"../waka.txt\", \"r\").read(),\n",
    "                     database='publication')\n",
    "\n",
    "cursor=db.cursor()"
   ]
  },
  {
   "cell_type": "code",
   "execution_count": 12,
   "id": "9aabc327",
   "metadata": {},
   "outputs": [
    {
     "ename": "NameError",
     "evalue": "name 'tabla2' is not defined",
     "output_type": "error",
     "traceback": [
      "\u001b[0;31m---------------------------------------------------------------------------\u001b[0m",
      "\u001b[0;31mNameError\u001b[0m                                 Traceback (most recent call last)",
      "\u001b[0;32m<ipython-input-12-bc4bb9b4eba1>\u001b[0m in \u001b[0;36m<module>\u001b[0;34m\u001b[0m\n\u001b[0;32m----> 1\u001b[0;31m \u001b[0mpd\u001b[0m\u001b[0;34m.\u001b[0m\u001b[0mread_sql\u001b[0m\u001b[0;34m(\u001b[0m\u001b[0mtabla2\u001b[0m\u001b[0;34m,\u001b[0m\u001b[0mdb\u001b[0m\u001b[0;34m)\u001b[0m\u001b[0;34m\u001b[0m\u001b[0;34m\u001b[0m\u001b[0m\n\u001b[0m",
      "\u001b[0;31mNameError\u001b[0m: name 'tabla2' is not defined"
     ]
    }
   ],
   "source": [
    "pd.read_sql(tabla2,db)"
   ]
  },
  {
   "cell_type": "code",
   "execution_count": 13,
   "id": "38bb28d2",
   "metadata": {},
   "outputs": [],
   "source": [
    "tabla3='''Select * from \n",
    "\n",
    "(SELECT  a.au_id AS \"AUTHOR ID\",  tl.price AS \"price\",   tl.title AS \"Title\",\n",
    "sum(tl.price * sa.qty * tl.royalty / 100 * ta.royaltyper / 100) AS \"royal_sales\"\n",
    "\tFROM authors AS a\n",
    "    LEFT JOIN titleauthor AS ta ON a.au_id = ta.au_id  \n",
    "    LEFT JOIN titles AS tl ON tl.title_id = ta.title_id \n",
    "    LEFT JOIN publishers AS pb ON pb.pub_id = tl.pub_id \n",
    "    LEFT JOIN sales AS sa ON sa.title_id = ta.title_id\n",
    "     group by tl.title) as tabla3\n",
    "'''\n",
    "cursor.execute(tabla3)"
   ]
  },
  {
   "cell_type": "code",
   "execution_count": 14,
   "id": "ab6f47bd",
   "metadata": {},
   "outputs": [],
   "source": [
    "db=conn.connect(host='localhost',\n",
    "                     user='root',\n",
    "                     passwd=open(\"../waka.txt\", \"r\").read(),\n",
    "                     database='publication')\n",
    "\n",
    "cursor=db.cursor()"
   ]
  },
  {
   "cell_type": "code",
   "execution_count": 15,
   "id": "8e132036",
   "metadata": {},
   "outputs": [
    {
     "data": {
      "text/html": [
       "<div>\n",
       "<style scoped>\n",
       "    .dataframe tbody tr th:only-of-type {\n",
       "        vertical-align: middle;\n",
       "    }\n",
       "\n",
       "    .dataframe tbody tr th {\n",
       "        vertical-align: top;\n",
       "    }\n",
       "\n",
       "    .dataframe thead th {\n",
       "        text-align: right;\n",
       "    }\n",
       "</style>\n",
       "<table border=\"1\" class=\"dataframe\">\n",
       "  <thead>\n",
       "    <tr style=\"text-align: right;\">\n",
       "      <th></th>\n",
       "      <th>AUTHOR ID</th>\n",
       "      <th>price</th>\n",
       "      <th>Title</th>\n",
       "      <th>royal_sales</th>\n",
       "    </tr>\n",
       "  </thead>\n",
       "  <tbody>\n",
       "    <tr>\n",
       "      <th>0</th>\n",
       "      <td>172-32-1176</td>\n",
       "      <td>19.99</td>\n",
       "      <td>Prolonged Data Deprivation: Four Case Studies</td>\n",
       "      <td>29.985</td>\n",
       "    </tr>\n",
       "    <tr>\n",
       "      <th>1</th>\n",
       "      <td>213-46-8915</td>\n",
       "      <td>19.99</td>\n",
       "      <td>The Busy Executive's Database Guide</td>\n",
       "      <td>29.985</td>\n",
       "    </tr>\n",
       "    <tr>\n",
       "      <th>2</th>\n",
       "      <td>213-46-8915</td>\n",
       "      <td>2.99</td>\n",
       "      <td>You Can Combat Computer Stress!</td>\n",
       "      <td>25.116</td>\n",
       "    </tr>\n",
       "    <tr>\n",
       "      <th>3</th>\n",
       "      <td>238-95-7766</td>\n",
       "      <td>22.95</td>\n",
       "      <td>But Is It User Friendly?</td>\n",
       "      <td>110.160</td>\n",
       "    </tr>\n",
       "    <tr>\n",
       "      <th>4</th>\n",
       "      <td>267-41-2394</td>\n",
       "      <td>11.95</td>\n",
       "      <td>Cooking with Computers: Surreptitious Balance ...</td>\n",
       "      <td>29.875</td>\n",
       "    </tr>\n",
       "    <tr>\n",
       "      <th>5</th>\n",
       "      <td>267-41-2394</td>\n",
       "      <td>14.99</td>\n",
       "      <td>Sushi, Anyone?</td>\n",
       "      <td>29.980</td>\n",
       "    </tr>\n",
       "    <tr>\n",
       "      <th>6</th>\n",
       "      <td>274-80-9391</td>\n",
       "      <td>19.99</td>\n",
       "      <td>Straight Talk About Computers</td>\n",
       "      <td>29.985</td>\n",
       "    </tr>\n",
       "    <tr>\n",
       "      <th>7</th>\n",
       "      <td>341-22-1782</td>\n",
       "      <td>NaN</td>\n",
       "      <td>None</td>\n",
       "      <td>NaN</td>\n",
       "    </tr>\n",
       "    <tr>\n",
       "      <th>8</th>\n",
       "      <td>427-17-2319</td>\n",
       "      <td>20.00</td>\n",
       "      <td>Secrets of Silicon Valley</td>\n",
       "      <td>100.000</td>\n",
       "    </tr>\n",
       "    <tr>\n",
       "      <th>9</th>\n",
       "      <td>486-29-1786</td>\n",
       "      <td>NaN</td>\n",
       "      <td>Net Etiquette</td>\n",
       "      <td>NaN</td>\n",
       "    </tr>\n",
       "    <tr>\n",
       "      <th>10</th>\n",
       "      <td>486-29-1786</td>\n",
       "      <td>7.99</td>\n",
       "      <td>Emotional Security: A New Algorithm</td>\n",
       "      <td>19.975</td>\n",
       "    </tr>\n",
       "    <tr>\n",
       "      <th>11</th>\n",
       "      <td>648-92-1872</td>\n",
       "      <td>11.95</td>\n",
       "      <td>Fifty Years in Buckingham Palace Kitchens</td>\n",
       "      <td>33.460</td>\n",
       "    </tr>\n",
       "    <tr>\n",
       "      <th>12</th>\n",
       "      <td>712-45-1867</td>\n",
       "      <td>19.99</td>\n",
       "      <td>Silicon Valley Gastronomic Treats</td>\n",
       "      <td>23.988</td>\n",
       "    </tr>\n",
       "    <tr>\n",
       "      <th>13</th>\n",
       "      <td>722-51-5454</td>\n",
       "      <td>2.99</td>\n",
       "      <td>The Gourmet Microwave</td>\n",
       "      <td>28.704</td>\n",
       "    </tr>\n",
       "    <tr>\n",
       "      <th>14</th>\n",
       "      <td>724-80-9391</td>\n",
       "      <td>21.59</td>\n",
       "      <td>Computer Phobic AND Non-Phobic Individuals: Be...</td>\n",
       "      <td>43.180</td>\n",
       "    </tr>\n",
       "    <tr>\n",
       "      <th>15</th>\n",
       "      <td>807-91-6654</td>\n",
       "      <td>20.95</td>\n",
       "      <td>Onions, Leeks, and Garlic: Cooking Secrets of ...</td>\n",
       "      <td>83.800</td>\n",
       "    </tr>\n",
       "    <tr>\n",
       "      <th>16</th>\n",
       "      <td>899-46-2035</td>\n",
       "      <td>10.95</td>\n",
       "      <td>Is Anger the Enemy?</td>\n",
       "      <td>141.912</td>\n",
       "    </tr>\n",
       "    <tr>\n",
       "      <th>17</th>\n",
       "      <td>998-72-3567</td>\n",
       "      <td>7.00</td>\n",
       "      <td>Life Without Fear</td>\n",
       "      <td>17.500</td>\n",
       "    </tr>\n",
       "  </tbody>\n",
       "</table>\n",
       "</div>"
      ],
      "text/plain": [
       "      AUTHOR ID  price                                              Title  \\\n",
       "0   172-32-1176  19.99      Prolonged Data Deprivation: Four Case Studies   \n",
       "1   213-46-8915  19.99                The Busy Executive's Database Guide   \n",
       "2   213-46-8915   2.99                    You Can Combat Computer Stress!   \n",
       "3   238-95-7766  22.95                           But Is It User Friendly?   \n",
       "4   267-41-2394  11.95  Cooking with Computers: Surreptitious Balance ...   \n",
       "5   267-41-2394  14.99                                     Sushi, Anyone?   \n",
       "6   274-80-9391  19.99                      Straight Talk About Computers   \n",
       "7   341-22-1782    NaN                                               None   \n",
       "8   427-17-2319  20.00                          Secrets of Silicon Valley   \n",
       "9   486-29-1786    NaN                                      Net Etiquette   \n",
       "10  486-29-1786   7.99                Emotional Security: A New Algorithm   \n",
       "11  648-92-1872  11.95          Fifty Years in Buckingham Palace Kitchens   \n",
       "12  712-45-1867  19.99                  Silicon Valley Gastronomic Treats   \n",
       "13  722-51-5454   2.99                              The Gourmet Microwave   \n",
       "14  724-80-9391  21.59  Computer Phobic AND Non-Phobic Individuals: Be...   \n",
       "15  807-91-6654  20.95  Onions, Leeks, and Garlic: Cooking Secrets of ...   \n",
       "16  899-46-2035  10.95                                Is Anger the Enemy?   \n",
       "17  998-72-3567   7.00                                  Life Without Fear   \n",
       "\n",
       "    royal_sales  \n",
       "0        29.985  \n",
       "1        29.985  \n",
       "2        25.116  \n",
       "3       110.160  \n",
       "4        29.875  \n",
       "5        29.980  \n",
       "6        29.985  \n",
       "7           NaN  \n",
       "8       100.000  \n",
       "9           NaN  \n",
       "10       19.975  \n",
       "11       33.460  \n",
       "12       23.988  \n",
       "13       28.704  \n",
       "14       43.180  \n",
       "15       83.800  \n",
       "16      141.912  \n",
       "17       17.500  "
      ]
     },
     "execution_count": 15,
     "metadata": {},
     "output_type": "execute_result"
    }
   ],
   "source": [
    "pd.read_sql(tabla3,db)"
   ]
  },
  {
   "cell_type": "code",
   "execution_count": null,
   "id": "67193284",
   "metadata": {},
   "outputs": [],
   "source": []
  }
 ],
 "metadata": {
  "kernelspec": {
   "display_name": "ironhack",
   "language": "python",
   "name": "ironhack"
  },
  "language_info": {
   "codemirror_mode": {
    "name": "ipython",
    "version": 3
   },
   "file_extension": ".py",
   "mimetype": "text/x-python",
   "name": "python",
   "nbconvert_exporter": "python",
   "pygments_lexer": "ipython3",
   "version": "3.8.5"
  }
 },
 "nbformat": 4,
 "nbformat_minor": 5
}
